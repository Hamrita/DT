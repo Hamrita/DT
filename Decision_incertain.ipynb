{
  "nbformat": 4,
  "nbformat_minor": 0,
  "metadata": {
    "colab": {
      "provenance": [],
      "authorship_tag": "ABX9TyP4/3ZjFoL3FjjfKgFsC5jW",
      "include_colab_link": true
    },
    "kernelspec": {
      "name": "ir",
      "display_name": "R"
    },
    "language_info": {
      "name": "R"
    }
  },
  "cells": [
    {
      "cell_type": "markdown",
      "metadata": {
        "id": "view-in-github",
        "colab_type": "text"
      },
      "source": [
        "<a href=\"https://colab.research.google.com/github/Hamrita/DT/blob/main/Decision_incertain.ipynb\" target=\"_parent\"><img src=\"https://colab.research.google.com/assets/colab-badge.svg\" alt=\"Open In Colab\"/></a>"
      ]
    },
    {
      "cell_type": "code",
      "execution_count": 56,
      "metadata": {
        "id": "c24xVFA9Nj0X"
      },
      "outputs": [],
      "source": [
        "Dec_incetain=function(table, crit=\"maximin\", alpha=NULL){\n",
        "  n=nrow(table)\n",
        "  m=ncol(table)\n",
        "  rnames=paste0(\"a\", 1:n)\n",
        "  cnames=paste0(\"e\", 1:m)\n",
        "  if(crit==\"maximin\"){\n",
        "    MIN=c(apply(table,1,min))\n",
        "    MAX=max(MIN)\n",
        "    TABLE=cbind(table,Min=MIN)\n",
        "    colnames(TABLE)[1:m]=cnames\n",
        "    row.names(TABLE)[1:n]=rnames\n",
        "    decision=paste0(rnames[which.max(MIN)])\n",
        "  }else{\n",
        "    if(crit==\"minimax\"){\n",
        "      MAX=c(apply(table,1,max))\n",
        "      MIN=min(MAX)\n",
        "      TABLE=cbind(table,Max=MAX)\n",
        "      colnames(TABLE)[1:m]=cnames\n",
        "      row.names(TABLE)[1:n]=rnames\n",
        "      decision=paste0(rnames[which.min(MAX)])\n",
        "    }else{\n",
        "      if(crit==\"regret\"){\n",
        "        cMax=apply(table,2,max)\n",
        "        regret=sweep(-tt1,2,cMax,\"+\")\n",
        "        MAX=c(apply(regret,1,max))\n",
        "        MIN=min(MAX)\n",
        "        TABLE=cbind(regret,Max=MAX)\n",
        "        colnames(TABLE)[1:m]=cnames\n",
        "        row.names(TABLE)[1:n]=rnames\n",
        "        decision=paste0(rnames[which.min(MAX)])\n",
        "        cat(\"La matrice de regret est:\\n\")\n",
        "      }else{\n",
        "        if(crit==\"hurwicz\"){\n",
        "          MAX=c(apply(table,1,max))\n",
        "          MIN=c(apply(table,1,min))\n",
        "          H=alpha*MIN+(1-alpha)*MAX \n",
        "          TABLE=cbind(table,Min=MIN,Max=MAX,H=H)\n",
        "          colnames(TABLE)[1:m]=cnames\n",
        "          row.names(TABLE)[1:n]=rnames\n",
        "          decision=paste0(rnames[which.max(H)])\n",
        "        }else{\n",
        "          Moy=rowMeans(table)\n",
        "          TABLE=cbind(table,Moyenne=Moy)\n",
        "          colnames(TABLE)[1:m]=cnames\n",
        "          row.names(TABLE)[1:n]=rnames\n",
        "          decision=paste0(rnames[which.max(Moy)])\n",
        "        }\n",
        "        \n",
        "      }\n",
        "    }\n",
        "  }\n",
        "  options(scipen=999)\n",
        "  print(TABLE)\n",
        "  cat(\"\\nLa décision à prendre selon le critère \" ,  crit,  \" est \", \n",
        "      decision)\n",
        "}"
      ]
    },
    {
      "cell_type": "code",
      "source": [
        "tt1=matrix(c(50000,100000,30000,30000,-40000,10000), nc=2)\n",
        "Dec_incetain(tt1, crit=\"maximin\")"
      ],
      "metadata": {
        "colab": {
          "base_uri": "https://localhost:8080/"
        },
        "id": "k9CASFMOOrv6",
        "outputId": "faeaacf3-2f91-49b6-e0a4-3a47a6506774"
      },
      "execution_count": 57,
      "outputs": [
        {
          "output_type": "stream",
          "name": "stdout",
          "text": [
            "       e1     e2    Min\n",
            "a1  50000  30000  30000\n",
            "a2 100000 -40000 -40000\n",
            "a3  30000  10000  10000\n",
            "\n",
            "La décision à prendre selon le critère  maximin  est  a1"
          ]
        }
      ]
    },
    {
      "cell_type": "code",
      "source": [
        "Dec_incetain(tt1, crit=\"minimax\")"
      ],
      "metadata": {
        "colab": {
          "base_uri": "https://localhost:8080/"
        },
        "id": "RB35dHRtNKYr",
        "outputId": "c315c4b4-6a8f-4d20-ff1d-b7bb732de82a"
      },
      "execution_count": 58,
      "outputs": [
        {
          "output_type": "stream",
          "name": "stdout",
          "text": [
            "       e1     e2    Max\n",
            "a1  50000  30000  50000\n",
            "a2 100000 -40000 100000\n",
            "a3  30000  10000  30000\n",
            "\n",
            "La décision à prendre selon le critère  minimax  est  a3"
          ]
        }
      ]
    },
    {
      "cell_type": "code",
      "source": [
        "Dec_incetain(tt1, crit=\"hurwicz\", alpha=0.6)"
      ],
      "metadata": {
        "colab": {
          "base_uri": "https://localhost:8080/"
        },
        "id": "ve2H8HJGG_MC",
        "outputId": "0a782637-4845-4fe2-b2ca-a453c3b0e1ed"
      },
      "execution_count": 59,
      "outputs": [
        {
          "output_type": "stream",
          "name": "stdout",
          "text": [
            "       e1     e2    Min    Max     H\n",
            "a1  50000  30000  30000  50000 38000\n",
            "a2 100000 -40000 -40000 100000 16000\n",
            "a3  30000  10000  10000  30000 18000\n",
            "\n",
            "La décision à prendre selon le critère  hurwicz  est  a1"
          ]
        }
      ]
    },
    {
      "cell_type": "code",
      "source": [
        "Dec_incetain(tt1, crit=\"regret\")"
      ],
      "metadata": {
        "colab": {
          "base_uri": "https://localhost:8080/"
        },
        "id": "cf8zJ1JBHIIK",
        "outputId": "e9890387-e682-43fa-a0b5-5ddf2843f267"
      },
      "execution_count": 60,
      "outputs": [
        {
          "output_type": "stream",
          "name": "stdout",
          "text": [
            "La matrice de regret est:\n",
            "      e1    e2   Max\n",
            "a1 50000     0 50000\n",
            "a2     0 70000 70000\n",
            "a3 70000 20000 70000\n",
            "\n",
            "La décision à prendre selon le critère  regret  est  a1"
          ]
        }
      ]
    },
    {
      "cell_type": "code",
      "source": [
        "Dec_incetain(tt1, crit=\"laplace\")"
      ],
      "metadata": {
        "colab": {
          "base_uri": "https://localhost:8080/"
        },
        "id": "ltUnQeR6NXsr",
        "outputId": "248c6ab1-8c9a-46c6-cbf7-bcd64e0a6112"
      },
      "execution_count": 61,
      "outputs": [
        {
          "output_type": "stream",
          "name": "stdout",
          "text": [
            "       e1     e2 Moyenne\n",
            "a1  50000  30000   40000\n",
            "a2 100000 -40000   30000\n",
            "a3  30000  10000   20000\n",
            "\n",
            "La décision à prendre selon le critère  laplace  est  a1"
          ]
        }
      ]
    }
  ]
}